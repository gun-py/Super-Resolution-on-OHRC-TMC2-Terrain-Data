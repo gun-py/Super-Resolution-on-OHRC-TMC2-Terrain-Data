{
  "cells": [
    {
      "cell_type": "markdown",
      "source": [
        "Installing required Libraries"
      ],
      "metadata": {
        "id": "bWSdMi-gy-Nh"
      }
    },
    {
      "cell_type": "code",
      "execution_count": null,
      "outputs": [],
      "source": [
        "!pip install git+https://${GITHUB_TOKEN}@github.com/planetlabs/maxrect.git\n",
        "!pip install shapely\n",
        "!pip install CVXPY"
      ],
      "metadata": {
        "id": "g4VKlkCKPPeG"
      }
    },
    {
      "cell_type": "code",
      "source": [
        "from google.colab import drive\n",
        "drive.mount('/content/drive')"
      ],
      "metadata": {
        "colab": {
          "base_uri": "https://localhost:8080/"
        },
        "id": "JAMeGNvnPXcC",
        "outputId": "4c509f08-e4f3-4e86-f65f-edc60ee1ee05"
      },
      "execution_count": null,
      "outputs": [
        {
          "output_type": "stream",
          "name": "stdout",
          "text": [
            "Mounted at /content/drive\n"
          ]
        }
      ]
    },
    {
      "cell_type": "markdown",
      "source": [
        "The Following Cells extract the path of csv files and tmc files from the drive"
      ],
      "metadata": {
        "id": "Hknt0ll0yjG-"
      }
    },
    {
      "cell_type": "code",
      "source": [
        "import os"
      ],
      "metadata": {
        "id": "oNCPHOqxU2SP"
      },
      "execution_count": null,
      "outputs": []
    },
    {
      "cell_type": "code",
      "source": [
        "paths = os.path.join('/content/drive/MyDrive/OHRC Files/ohrc files',i)"
      ],
      "metadata": {
        "id": "VGeipwt7VjwD"
      },
      "execution_count": null,
      "outputs": []
    },
    {
      "cell_type": "code",
      "source": [
        "img_paths = []\n",
        "xml_paths = []\n",
        "number_o = []\n",
        "csv_paths = []\n",
        "new_path2 = []\n",
        "base = '/content/drive/MyDrive/OHRC_Files/ohrc_files'\n",
        "files = os.listdir('/content/drive/MyDrive/OHRC_Files/ohrc_files')\n",
        "for i in files:\n",
        "    path = os.path.join(base,i,'data','calibrated')\n",
        "    new_path2.append(i)\n",
        "    pth = os.listdir(path)\n",
        "    data_path = os.path.join(path,pth[0])\n",
        "    data_content = os.listdir(data_path)\n",
        "    img_paths.append(data_content[0])\n",
        "    xml_paths.append(data_content[1])\n",
        "    paths1 = os.path.join(base,i,'geometry','calibrated')\n",
        "    pth1 = os.listdir(paths1)\n",
        "    number_o.append(pth1)\n",
        "    geo_path1 = os.path.join(paths1,pth1[0])\n",
        "    geo_content1 = os.listdir(geo_path1)\n",
        "    csv_paths.append(geo_content1[0])"
      ],
      "metadata": {
        "id": "e5CvRf9mSqBm"
      },
      "execution_count": null,
      "outputs": []
    },
    {
      "cell_type": "code",
      "source": [
        "import pandas as pd\n",
        "df_ohrc = pd.DataFrame({\n",
        "        'img_path':img_paths,\n",
        "        'xml_path':xml_paths\n",
        "})"
      ],
      "metadata": {
        "id": "kcnWcqvfStnJ"
      },
      "execution_count": null,
      "outputs": []
    },
    {
      "cell_type": "code",
      "source": [
        "df_ohrc['csv_path'] = csv_paths\n",
        "df_ohrc['Number'] = number_o\n",
        "df_ohrc['New_Path2'] = new_path2"
      ],
      "metadata": {
        "id": "JvHZHiXCSztY"
      },
      "execution_count": null,
      "outputs": []
    },
    {
      "cell_type": "code",
      "source": [
        "img_paths = []\n",
        "xml_paths = []\n",
        "csv_paths = []\n",
        "number = []\n",
        "new_path = []\n",
        "base_1 = '/content/drive/MyDrive/TMC_Files/Tmc_data'\n",
        "files_1 = os.listdir('/content/drive/MyDrive/TMC_Files/Tmc_data')\n",
        "for i in files_1:\n",
        "  try:\n",
        "      path = os.path.join(base_1,i,'data','calibrated')\n",
        "      pth = os.listdir(path)\n",
        "      data_path = os.path.join(path,pth[0])\n",
        "      data_content = os.listdir(data_path)\n",
        "      paths1 = os.path.join(base_1,i,'geometry','calibrated')\n",
        "      pth1 = os.listdir(paths1)\n",
        "      geo_path1 = os.path.join(paths1,pth1[0])\n",
        "      geo_content1 = os.listdir(geo_path1)\n",
        "      if len(data_content)>=2:\n",
        "        new_path.append(i)\n",
        "        number.append(pth1)\n",
        "        csv_paths.append(geo_content1[0])\n",
        "        img_paths.append(data_content[0])\n",
        "        # print(data_content)\n",
        "        xml_paths.append(data_content[1])\n",
        "  except:\n",
        "      pass"
      ],
      "metadata": {
        "id": "xpeYx-hzXKTG"
      },
      "execution_count": null,
      "outputs": []
    },
    {
      "cell_type": "code",
      "source": [
        "import pandas as pd\n",
        "df_tmc = pd.DataFrame({\n",
        "        'img_path':img_paths,\n",
        "        'xml_path':xml_paths\n",
        "})\n",
        "df_tmc['csv_path'] = csv_paths\n",
        "df_tmc['Number'] = number\n",
        "df_tmc['new_path'] = new_path"
      ],
      "metadata": {
        "id": "eukFsp0vXTTk"
      },
      "execution_count": null,
      "outputs": []
    },
    {
      "cell_type": "code",
      "execution_count": null,
      "outputs": [],
      "source": [
        "import pandas as pd\n",
        "import numpy as np\n",
        "import matplotlib.pyplot as plt\n",
        "import math\n",
        "import numpy as np\n",
        "import cvxpy\n",
        "from shapely.geometry import Polygon"
      ],
      "metadata": {
        "id": "8yF51SmUPPeI"
      }
    },
    {
      "cell_type": "markdown",
      "source": [
        "Gives coordinats of rectange given upper right and lower left corner coordinates"
      ],
      "metadata": {
        "id": "eQW2r7lUzmN4"
      }
    },
    {
      "cell_type": "code",
      "execution_count": null,
      "outputs": [],
      "source": [
        "def rect2poly(ll, ur):\n",
        "    x0, y0 = ll\n",
        "    x1, y1 = ur\n",
        "\n",
        "    return [\n",
        "        [x0, y0],\n",
        "        [x0, y1],\n",
        "        [x1, y1],\n",
        "        [x1, y0],\n",
        "        [x0, y0]\n",
        "    ]"
      ],
      "metadata": {
        "id": "KC_0B_mgPPeJ"
      }
    },
    {
      "cell_type": "markdown",
      "source": [
        "Gives the coordinates of largest rectangle inside a polygon given coordinates of its boundary points"
      ],
      "metadata": {
        "id": "BH_HX-FNzx3U"
      }
    },
    {
      "cell_type": "code",
      "source": [
        "def get_maximal_rectangle(coordinates):\n",
        "    coordinates = np.array(coordinates)\n",
        "    x_range = np.max(coordinates, axis=0)[0]-np.min(coordinates, axis=0)[0]\n",
        "    y_range = np.max(coordinates, axis=0)[1]-np.min(coordinates, axis=0)[1]\n",
        "\n",
        "    scale = np.array([x_range, y_range])\n",
        "    sc_coordinates = coordinates/scale\n",
        "\n",
        "    poly = Polygon(sc_coordinates)\n",
        "    inside_pt = (poly.representative_point().x,\n",
        "                 poly.representative_point().y)\n",
        "\n",
        "    A1, A2, B = pts_to_leq(sc_coordinates)\n",
        "\n",
        "    bl = cvxpy.Variable(2)\n",
        "    tr = cvxpy.Variable(2)\n",
        "    br = cvxpy.Variable(2)\n",
        "    tl = cvxpy.Variable(2)\n",
        "    obj = cvxpy.Maximize(cvxpy.log(tr[0] - bl[0]) + cvxpy.log(tr[1] - bl[1]))\n",
        "    constraints = [bl[0] == tl[0],\n",
        "                   br[0] == tr[0],\n",
        "                   tl[1] == tr[1],\n",
        "                   bl[1] == br[1],\n",
        "                   ]\n",
        "\n",
        "    for i in range(len(B)):\n",
        "        if inside_pt[0] * A1[i] + inside_pt[1] * A2[i] <= B[i]:\n",
        "            constraints.append(bl[0] * A1[i] + bl[1] * A2[i] <= B[i])\n",
        "            constraints.append(tr[0] * A1[i] + tr[1] * A2[i] <= B[i])\n",
        "            constraints.append(br[0] * A1[i] + br[1] * A2[i] <= B[i])\n",
        "            constraints.append(tl[0] * A1[i] + tl[1] * A2[i] <= B[i])\n",
        "\n",
        "        else:\n",
        "            constraints.append(bl[0] * A1[i] + bl[1] * A2[i] >= B[i])\n",
        "            constraints.append(tr[0] * A1[i] + tr[1] * A2[i] >= B[i])\n",
        "            constraints.append(br[0] * A1[i] + br[1] * A2[i] >= B[i])\n",
        "            constraints.append(tl[0] * A1[i] + tl[1] * A2[i] >= B[i])\n",
        "\n",
        "    prob = cvxpy.Problem(obj, constraints)\n",
        "    prob.solve()\n",
        "\n",
        "    bottom_left = np.array(bl.value).T * scale\n",
        "    top_right = np.array(tr.value).T * scale\n",
        "\n",
        "    return list(bottom_left), list(top_right)"
      ],
      "metadata": {
        "id": "WlYd6kXqzi28"
      },
      "execution_count": null,
      "outputs": []
    },
    {
      "cell_type": "markdown",
      "source": [
        "returns diatance between 2 points"
      ],
      "metadata": {
        "id": "ttYzCQUV0DYi"
      }
    },
    {
      "cell_type": "code",
      "execution_count": null,
      "outputs": [],
      "source": [
        "def distance(a,b):\n",
        "    dist = (a[0]-b[0])**2 + (a[1]-b[1])**2"
      ],
      "metadata": {
        "id": "CbS9ttFePPeK"
      }
    },
    {
      "cell_type": "markdown",
      "source": [
        "Returns Max values of pixel and scan from csv files of tmc or \n",
        "ohrc data"
      ],
      "metadata": {
        "id": "McdfgB1X0Rjj"
      }
    },
    {
      "cell_type": "code",
      "execution_count": null,
      "outputs": [],
      "source": [
        "def get_max(csv):\n",
        "    pixel = csv.Pixel.max()\n",
        "    scan = csv.Scan.max()\n",
        "\n",
        "    return pixel,scan"
      ],
      "metadata": {
        "id": "vruMwMmEPPeK"
      }
    },
    {
      "cell_type": "markdown",
      "source": [
        "Returns latitude and longitude given pixel and scan value"
      ],
      "metadata": {
        "id": "lm57dWIO0pvM"
      }
    },
    {
      "cell_type": "code",
      "execution_count": null,
      "outputs": [],
      "source": [
        "def get_lat_long(pixel,scan,csv):\n",
        "    x1 = csv[(csv.Pixel==pixel) & (csv.Scan==scan)]['Longitude'].item()\n",
        "    y1 = csv[(csv.Pixel==pixel) & (csv.Scan==scan)]['Latitude'].item()\n",
        "\n",
        "    return x1,y1"
      ],
      "metadata": {
        "id": "_4lNaN29PPeL"
      }
    },
    {
      "cell_type": "markdown",
      "source": [
        "Returns Boundary points of a imgaes in terms of latitude and longitude"
      ],
      "metadata": {
        "id": "yrELEVWr0yWp"
      }
    },
    {
      "cell_type": "code",
      "execution_count": null,
      "outputs": [],
      "source": [
        "def bound(csv):\n",
        "    pixel,scan = get_max(csv)\n",
        "    bound = [get_lat_long(0,0,csv),get_lat_long(pixel,0,csv),get_lat_long(pixel,scan,csv),get_lat_long(0,scan,csv)]\n",
        "\n",
        "    # bound.append(bound[0])\n",
        "    # lr,ur = get_maximal_rectangle(bound)\n",
        "    # bound = rect2poly(lr,ur)\n",
        "    # points = bound[:len(bound)-1]\n",
        "\n",
        "    return bound"
      ],
      "metadata": {
        "id": "1s4WziaCPPeL"
      }
    },
    {
      "cell_type": "markdown",
      "source": [
        "Returns line equation parameters a,b,c\n",
        "\"aX + bY = c\""
      ],
      "metadata": {
        "collapsed": false,
        "id": "bfqJp5-4PPeL"
      }
    },
    {
      "cell_type": "code",
      "execution_count": null,
      "outputs": [],
      "source": [
        "def line(point1,point2):\n",
        "    a = point2[1]-point1[1]\n",
        "    b = point2[0] - point1[0]\n",
        "    c  = point1[1]*b-point1[0]*a\n",
        "\n",
        "    return a,-b,-c"
      ],
      "metadata": {
        "id": "iN-RJsHzPPeM"
      }
    },
    {
      "cell_type": "markdown",
      "source": [
        "The below two functions check whether two quadilaterls overlap or not given there boundary points"
      ],
      "metadata": {
        "id": "6HLC4uqh028s"
      }
    },
    {
      "cell_type": "code",
      "execution_count": null,
      "outputs": [],
      "source": [
        "def custom(line_points,points_tmc,other_ohrc_points):\n",
        "    a,b,c = line(line_points[0],line_points[1])\n",
        "    t = []\n",
        "    o = []\n",
        "\n",
        "    for i in points_tmc:\n",
        "        temp = a*i[0] + b*i[1] - c\n",
        "        t.append(temp)\n",
        "\n",
        "    for i in other_ohrc_points:\n",
        "        temp = a*i[0] + b*i[1] - c\n",
        "        o.append(temp)\n",
        "\n",
        "    t1,t2 = min(t),max(t)\n",
        "    for t in t:\n",
        "        if t==0:\n",
        "            break\n",
        "    else:\n",
        "        if t1*t2 >= 0 >= t1*o[1]:\n",
        "            return False\n",
        "        else:\n",
        "            return True\n",
        "    return True"
      ],
      "metadata": {
        "id": "K5fhnyxnPPeM"
      }
    },
    {
      "cell_type": "code",
      "execution_count": null,
      "outputs": [],
      "source": [
        "def overlap_check(ohrc_boundary, tmc_boundary):\n",
        "    ohrc_grp1 = (ohrc_boundary[0],ohrc_boundary[1])\n",
        "    ohrc_grp2 = (ohrc_boundary[2],ohrc_boundary[3])\n",
        "    ohrc_grp3 = (ohrc_boundary[0], ohrc_boundary[3])\n",
        "    ohrc_grp4 = (ohrc_boundary[1], ohrc_boundary[2])\n",
        "\n",
        "    if custom(ohrc_grp1, tmc_boundary, ohrc_grp2) and custom(ohrc_grp2, tmc_boundary, ohrc_grp1) and custom(ohrc_grp3, tmc_boundary, ohrc_grp4) and custom(ohrc_grp4, tmc_boundary, ohrc_grp3):\n",
        "      print(\"Overlap!!\")\n",
        "      return True\n",
        "    else:\n",
        "      return False"
      ],
      "metadata": {
        "id": "BI4HxUSBPPeM"
      }
    },
    {
      "cell_type": "markdown",
      "source": [
        "The below 2 functions returns intersection of two lines given end point of each line segment, if the intersection lies between the segment"
      ],
      "metadata": {
        "id": "evg5wqp81LYB"
      }
    },
    {
      "cell_type": "code",
      "execution_count": null,
      "outputs": [],
      "source": [
        "def sort_points(points):\n",
        "    y2 = [(points[i][0],points[i][1]) for i in range(len(points))]\n",
        "\n",
        "    if len(set(y2))==2:\n",
        "        return list(set(y2))\n",
        "\n",
        "    x = [point[0] for point in points]\n",
        "    y = [point[1] for point in points]\n",
        "    x = sorted(x)\n",
        "    y = sorted(y)\n",
        "\n",
        "    req_points = []\n",
        "    if (x[1], y[1]) in points:\n",
        "        req_points.append((x[1], y[1]))\n",
        "        req_points.append((x[2], y[2]))\n",
        "    elif (x[1], y[2]) in points:\n",
        "        req_points.append((x[1], y[2]))\n",
        "        req_points.append((x[2], y[1]))\n",
        "\n",
        "    return req_points"
      ],
      "metadata": {
        "id": "aKDThT1hPPeN"
      }
    },
    {
      "cell_type": "code",
      "execution_count": null,
      "outputs": [],
      "source": [
        "def return_intersect(point1,point2,point3,point4):\n",
        "    a1,b1,c1 = line(point1,point2)\n",
        "    a2,b2,c2 = line(point3,point4)\n",
        "    d = a1*b2 - a2*b1\n",
        "    dx = c1*b2 - c2*b1\n",
        "    dy = a1*c2 - a2*c1\n",
        "    all1 = [point1,point2,point3,point4]\n",
        "    if d==0 and dx==0 and dy==0:\n",
        "        points = sort_points(all1)\n",
        "        t = {0: points[0], 1: points[1]}\n",
        "        return t\n",
        "    elif d!=0:\n",
        "        x,y = dx/d,dy/d\n",
        "        if (min(point1[0],point2[0])<= x <= max(point1[0],point2[0])) and \\\n",
        "        (min(point3[0],point4[0])<= x <= max(point3[0],point4[0])) and \\\n",
        "        (min(point1[1],point2[1])<= y <= max(point1[1],point2[1])) and \\\n",
        "        (min(point3[1],point4[1])<= y <= max(point3[1],point4[1])):\n",
        "            return x,y\n",
        "    else:\n",
        "        return None"
      ],
      "metadata": {
        "id": "-RsnKeoSPPeN"
      }
    },
    {
      "cell_type": "markdown",
      "source": [
        "Checks whether a point is inside a quadilateral or not"
      ],
      "metadata": {
        "id": "0gDtDdLO1Ozq"
      }
    },
    {
      "cell_type": "code",
      "execution_count": null,
      "outputs": [],
      "source": [
        "def return_if_inside(point,boundary):\n",
        "    p = [point]*4\n",
        "    return overlap_check(boundary,p)"
      ],
      "metadata": {
        "id": "DUO2XUJGPPeN"
      }
    },
    {
      "cell_type": "markdown",
      "source": [
        "Returns end points of a quadilateral in order given the points in random order "
      ],
      "metadata": {
        "id": "dQrGlSGa1hyt"
      }
    },
    {
      "cell_type": "code",
      "execution_count": null,
      "outputs": [],
      "source": [
        "def return_in_order(random):\n",
        "    initial = random[0]\n",
        "    ordered = [initial]\n",
        "    list_t = random.copy()\n",
        "    list_t.remove(initial)\n",
        "    n = 0\n",
        "    while True:\n",
        "        i = list_t[n]\n",
        "\n",
        "        temp_list = random.copy()\n",
        "        temp_list.remove(i)\n",
        "        if initial in temp_list:\n",
        "            temp_list.remove(initial)\n",
        "\n",
        "        a,b,c = line(initial,i)\n",
        "        values = []\n",
        "\n",
        "        for j in temp_list:\n",
        "            temp = a*j[0] + b*j[1] - c\n",
        "            values.append(temp)\n",
        "\n",
        "        if min(values)*max(values)>=0:\n",
        "            initial = i\n",
        "            ordered.append(i)\n",
        "            if len(ordered) == len(random):\n",
        "                break\n",
        "            n=-1\n",
        "            list_t.remove(i)\n",
        "        n+=1\n",
        "\n",
        "    return ordered"
      ],
      "metadata": {
        "id": "ombK99p6PPeN"
      }
    },
    {
      "cell_type": "markdown",
      "source": [
        "Returns the intersection point(s) of 2 quadilaterals if they intersect"
      ],
      "metadata": {
        "id": "WUB9sRpT1jGm"
      }
    },
    {
      "cell_type": "code",
      "execution_count": null,
      "outputs": [],
      "source": [
        "def intersect_dect(ohrc_csv_file,tmc_csv_file):\n",
        "    ohrc_boundary = bound(ohrc_csv_file)\n",
        "    tmc_boundary = bound(tmc_csv_file)\n",
        "    points = []\n",
        "    if overlap_check(ohrc_boundary,tmc_boundary):\n",
        "        for i in range(4):\n",
        "            if i==3:\n",
        "                a,b = 3,0\n",
        "            else:\n",
        "                a,b = i,i+1\n",
        "            for j in range(4):\n",
        "                if j==3:\n",
        "                    c,d = 3,0\n",
        "                else:\n",
        "                    c,d = j,j+1\n",
        "\n",
        "                a1 = return_intersect(ohrc_boundary[a],ohrc_boundary[b],tmc_boundary[c],tmc_boundary[d])\n",
        "                if type(a1) == type({}):\n",
        "                    k = list(a1.values())\n",
        "                    point1 = k[0]\n",
        "                    point2 = k[1]\n",
        "                    points.append(point1)\n",
        "                    points.append(point2)\n",
        "                elif a1 is not None:\n",
        "                    points.append(a1)\n",
        "\n",
        "\n",
        "        for i in tmc_boundary:\n",
        "            if return_if_inside(i,ohrc_boundary):\n",
        "                points.append(i)\n",
        "\n",
        "        for i in ohrc_boundary:\n",
        "            if return_if_inside(i,tmc_boundary):\n",
        "                points.append(i)\n",
        "\n",
        "        points.append(points[0])\n",
        "        lr,ur = get_maximal_rectangle(points)\n",
        "        points = rect2poly(lr,ur)\n",
        "        points = points[:len(points)-1]\n",
        "\n",
        "        return points\n",
        "\n",
        "    else:\n",
        "        return None"
      ],
      "metadata": {
        "id": "5fbsX725PPeN"
      }
    },
    {
      "cell_type": "markdown",
      "source": [
        "Plots the quadilateral given its boundary points"
      ],
      "metadata": {
        "id": "tHk4DoNb1uV2"
      }
    },
    {
      "cell_type": "code",
      "execution_count": null,
      "outputs": [],
      "source": [
        "def plotting(boundary):\n",
        "    plt.plot((boundary[0][0],boundary[1][0]),(boundary[0][1],boundary[1][1]),c='b')\n",
        "    plt.plot((boundary[1][0],boundary[2][0]),(boundary[1][1],boundary[2][1]),c='b')\n",
        "    plt.plot((boundary[2][0],boundary[3][0]),(boundary[2][1],boundary[3][1]),c='b')\n",
        "    plt.plot((boundary[3][0],boundary[0][0]),(boundary[3][1],boundary[0][1]),c='b')\n",
        "\n",
        "    plt.show()"
      ],
      "metadata": {
        "id": "yNicOhW3PPeN"
      }
    },
    {
      "cell_type": "markdown",
      "source": [
        "Returns the scan and pixel values of tmc and ohrc files whereever they intersect if at all they intersect, which are needed for slicing the image"
      ],
      "metadata": {
        "id": "z9pNoErA1zQa"
      }
    },
    {
      "cell_type": "code",
      "execution_count": null,
      "outputs": [],
      "source": [
        "def return_p_s(ohrc_csv1,tmc_csv1):\n",
        "    ohrc_csv1 = ohrc_csv1\n",
        "    tmc_csv1 = tmc_csv1\n",
        "    boundary = intersect_dect(ohrc_csv1,tmc_csv1)\n",
        "    ohrc_s_p = {}\n",
        "    tmc_s_p = {}\n",
        "    if boundary is not None:\n",
        "\n",
        "      for i in boundary:\n",
        "          i = tuple(i)\n",
        "          temp_o = ohrc_csv1.copy(deep=True)\n",
        "          temp_t = tmc_csv1.copy(deep=True)\n",
        "          temp_o['Longitude'] = temp_o['Longitude'] - i[0]\n",
        "          temp_o['Latitude'] = temp_o['Latitude'] - i[1]\n",
        "          temp_t['Longitude'] = temp_t['Longitude'] - i[0]\n",
        "          temp_t['Latitude'] = temp_t['Latitude'] - i[1]\n",
        "          temp_o[\"new\"] = np.abs(temp_o['Longitude']) + np.abs(temp_o['Latitude'])\n",
        "          temp_t[\"new\"] = np.abs(temp_t['Longitude']) + np.abs(temp_t['Latitude'])\n",
        "\n",
        "          min_o = temp_o.new.min()\n",
        "          min_t = temp_o.new.min()\n",
        "\n",
        "          temp_o1 = temp_o[temp_o.new==min_o]\n",
        "          temp_t1 = temp_t[temp_t.new==min_t]\n",
        "\n",
        "          scan_o = temp_o1['Scan'].item()\n",
        "          pixel_o = temp_o1['Pixel'].item()\n",
        "\n",
        "          scan_t = temp_t1['Scan'].item()\n",
        "          pixel_t = temp_t1[\"Pixel\"].item()\n",
        "\n",
        "          ohrc_s_p[i] = (pixel_o,scan_o)\n",
        "          tmc_s_p[i] = (pixel_t,scan_t)\n",
        "\n",
        "      ohrc_s_p1 = list(ohrc_s_p.values())\n",
        "      tmc_s_p1 = list(tmc_s_p.values())\n",
        "      ohrc_s_p1.append(ohrc_s_p1[0])\n",
        "      tmc_s_p1.append(tmc_s_p1[0])\n",
        "\n",
        "      lr,ur = get_maximal_rectangle(ohrc_s_p1)\n",
        "      ohrc_s_p1 = rect2poly(lr,ur)\n",
        "      ohrc_s_p1 = ohrc_s_p1[:len(ohrc_s_p1)-1]\n",
        "\n",
        "      lr,ur = get_maximal_rectangle(tmc_s_p1)\n",
        "      tmc_s_p1 = rect2poly(lr,ur)\n",
        "      tmc_s_p1 = tmc_s_p1[:len(tmc_s_p1)-1]\n",
        "\n",
        "      ohrc_s_p1 = list(np.round(np.array(ohrc_s_p1)).astype('int'))\n",
        "      tmc_s_p1 = list(np.round(np.array(tmc_s_p1)).astype('int'))\n",
        "      return ohrc_s_p1,tmc_s_p1\n",
        "    else:\n",
        "      return None"
      ],
      "metadata": {
        "id": "_jFh1audPPeO"
      }
    },
    {
      "cell_type": "code",
      "source": [
        "l = []\n",
        "for _,j in df_tmc.iterrows():\n",
        "  t_csv = pd.read_csv('/content/drive/MyDrive/TMC_Files/Tmc_data/'+j.new_path+'/geometry/calibrated/'+j.Number[0]+'/'+j.csv_path)\n",
        "  for _,i in df_ohrc.iterrows():\n",
        "    o_csv = pd.read_csv('/content/drive/MyDrive/OHRC_Files/ohrc_files/'+i.New_Path2+'/geometry/calibrated/'+i.Number[0]+'/'+i.csv_path)\n",
        "    try:\n",
        "      a = return_p_s(o_csv,t_csv)\n",
        "      if a is not None:\n",
        "        l.append(a)\n",
        "        print('OverLap!')\n",
        "    except:\n",
        "      l.append(None)\n",
        "print(l)"
      ],
      "metadata": {
        "id": "fV82h1BYRaAk"
      },
      "execution_count": null,
      "outputs": []
    }
  ],
  "metadata": {
    "kernelspec": {
      "display_name": "Python 3",
      "language": "python",
      "name": "python3"
    },
    "language_info": {
      "codemirror_mode": {
        "name": "ipython",
        "version": 2
      },
      "file_extension": ".py",
      "mimetype": "text/x-python",
      "name": "python",
      "nbconvert_exporter": "python",
      "pygments_lexer": "ipython2",
      "version": "2.7.6"
    },
    "colab": {
      "provenance": []
    }
  },
  "nbformat": 4,
  "nbformat_minor": 0
}